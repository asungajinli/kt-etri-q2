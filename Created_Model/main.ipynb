{
 "cells": [
  {
   "cell_type": "code",
   "execution_count": 16,
   "metadata": {},
   "outputs": [
    {
     "data": {
      "image/png": "[encoded data removed]",
      "text/plain": [
       "<Figure size 640x480 with 1 Axes>"
      ]
     },
     "metadata": {},
     "output_type": "display_data"
    }
   ],
   "source": [
    "# 1. 데이터 로드\n",
    "import pandas as pd\n",
    "import matplotlib.pyplot as plt\n",
    "\n",
    "def ppr_data(df):\n",
    "    # TODO: 데이터 전처리 코드 구현 ---------- #\n",
    "    df = df.groupby('ticketno').apply(custom_info).reset_index()  # ticketno 기준 병합 및 전처리 수행\n",
    "\n",
    "    x_df = df.iloc[:, :-1]\n",
    "    y_df = df['root_cause_type']\n",
    "    \n",
    "    y_df.value_counts().plot(kind = 'bar') if y_df[0] is not None else None  # 레이블 분포 확인\n",
    "    \n",
    "    # ------------------------------------- #\n",
    "    return x_df, y_df\n",
    "\n",
    "def custom_info(group):  # 임의로 작성된 전처리 코드입니다.\n",
    "    d = {}\n",
    "    group.sort_values(by='alarmtime', ascending=True, inplace=True)  # 경보 순서 정렬\n",
    "    d['alarmmsg_original'] = ' '.join(group['alarmmsg_original'])  # 메시지 단순 병합\n",
    "    if 'root_cause_type' in group.columns:  # 레이블 추출\n",
    "        group['root_cause_type'] = group['root_cause_type'].apply(lambda x: 0 if x == 'PowerFail' else (1 if x == 'LinkCut' else 2))  # 레이블 인코딩\n",
    "        d['root_cause_type'] = group['root_cause_type'].iloc[0]  # 동일한 ticketno는 동일한 root_cause_type을 가짐\n",
    "    else:\n",
    "        d['root_cause_type'] = None  # 테스트 세트의 경우 정답 컬럼 없음\n",
    "    return pd.Series(d, index=['alarmmsg_original', 'root_cause_type'])\n",
    "\n",
    "train_df = pd.read_csv(\"Q2_train.csv\")\n",
    "test_df = pd.read_csv(\"Q2_test.csv\")\n",
    "\n",
    "x_train_df, y_train_df = ppr_data(train_df)\n",
    "x_test_df, _ = ppr_data(test_df)  # 테스트 세트의 경우 정답 컬럼 없음\n",
    "\n",
    "# print(x_train_df,'\\n', y_train_df)\n",
    "# print(x_test_df)"
   ]
  },
  {
   "cell_type": "code",
   "execution_count": 15,
   "metadata": {},
   "outputs": [
    {
     "ename": "NameError",
     "evalue": "name 'x_train_df' is not defined",
     "output_type": "error",
     "traceback": [
      "\u001b[1;31m---------------------------------------------------------------------------\u001b[0m",
      "\u001b[1;31mNameError\u001b[0m                                 Traceback (most recent call last)",
      "Cell \u001b[1;32mIn[15], line 36\u001b[0m\n\u001b[0;32m     33\u001b[0m         \u001b[39mreturn\u001b[39;00m pred_df\n\u001b[0;32m     35\u001b[0m model \u001b[39m=\u001b[39m MyModel()\n\u001b[1;32m---> 36\u001b[0m model\u001b[39m.\u001b[39mtrain(x_train_df, y_train_df)\n\u001b[0;32m     37\u001b[0m y_pred \u001b[39m=\u001b[39m model\u001b[39m.\u001b[39mpredict(x_test_df)\n",
      "\u001b[1;31mNameError\u001b[0m: name 'x_train_df' is not defined"
     ]
    }
   ],
   "source": [
    "import os\n",
    "os.environ['CUDA_LAUNCH_BLOCKING'] = '1'\n",
    "import torch\n",
    "import numpy as np\n",
    "\n",
    "model = 'model.pt'\n",
    "\n",
    "# 2. 모델 학습 및 예측\n",
    "class MyModel:\n",
    "    def __init__(self) -> None:\n",
    "        self.model = model\n",
    "\n",
    "    def train(self, x_train, y_train):\n",
    "        x_alarmmsg_original = x_train['alarmmsg_original'].values\n",
    "        y_root_cause_type = y_train['root_cause_type'].values\n",
    "        max_len = len(max(x_alarmmsg_original, key=len))\n",
    "        print('max_len:', max_len)\n",
    "\n",
    "        input_ids = []\n",
    "        attention_masks = []\n",
    "\n",
    "        print('------------------------------ tokenizing end ------------------------------\\n')\n",
    "\n",
    "        \n",
    "        print('------------------------------ train end ------------------------------\\n')\n",
    "\n",
    "        pass\n",
    "\n",
    "    def predict(self, x_test):\n",
    "        pred_df = pd.DataFrame(columns=['alarmmsg_original', 'root_cause_type'])\n",
    "        print('------------------------------ predict end ------------------------------\\n')\n",
    "\n",
    "        return pred_df\n",
    "\n",
    "model = MyModel()\n",
    "model.train(x_train_df, y_train_df)\n",
    "y_pred = model.predict(x_test_df)"
   ]
  },
  {
   "cell_type": "code",
   "execution_count": 46,
   "metadata": {},
   "outputs": [
    {
     "name": "stdout",
     "output_type": "stream",
     "text": [
      "CV_model.vocabulary_: {'fan': 13, '48v': 0, 'fan 48v': 14, '48v fail': 1, 'fail fan': 10, 'fan fail': 15, 'fail 48v': 8, 'protectionswitched dcc': 42, 'restarted': 54, 'os_mismatch': 38, 'booting restarted': 6, 'restarted booting': 55, 'booting os_mismatch': 5, 'os_mismatch os_mismatch': 40, 'os_mismatch booting': 39, 'booting unit': 7, 'los unit': 30, 'portshutdown': 41, 'remove portshutdown': 51, 'lof booting': 23, 'autonego_mismatch autonego_mismatch': 2, 'remove dcc': 48, 'ipc': 16, 'remove unit': 53, 'unit ipc': 59, 'ipc fail': 17, 'psu rem': 43, 'rem psu': 46, 'opt mis': 37, 'remove trk': 52, 'mis dcc': 34, 'traffic psu': 58, 'booting dcc': 4, 'fail booting': 9, 'rmt_fail': 56, 'pw rmt_fail': 44, 'mis eth': 35, 'remove lsp': 50, 'lof opt': 25, 'los tdm': 29, 'lof dcc': 24, 'mis lsp': 36, 'traffic opt': 57, 'loc trk': 22, 'los ql_fail': 28, 'fail ql_fail': 11, 'low dcc': 32, 'low autonego_mismatch': 31, 'ql_fail lsp': 45, 'low trk': 33, 'remove booting': 47, 'link_fail_manual': 18, 'los link_fail_manual': 26, 'link_fail_manual opt': 20, 'link_fail_manual link_fail_manual': 19, 'remove link_fail_manual': 49, 'loc autonego_mismatch': 21, 'autonego_mismatch pw': 3, 'los pw': 27, 'fail tdm': 12}\n",
      "      48v  48v fail  autonego_mismatch autonego_mismatch   \n",
      "0       0         0                                    0  \\\n",
      "1       0         0                                    0   \n",
      "2       0         0                                    0   \n",
      "3       0         0                                    0   \n",
      "4       0         0                                    0   \n",
      "...   ...       ...                                  ...   \n",
      "1109    0         0                                    0   \n",
      "1110    0         0                                    0   \n",
      "1111    0         0                                    0   \n",
      "1112    0         0                                    0   \n",
      "1113    0         0                                    0   \n",
      "\n",
      "      autonego_mismatch pw  booting dcc  booting os_mismatch   \n",
      "0                        0            0                    0  \\\n",
      "1                        0            0                    0   \n",
      "2                        0            0                    0   \n",
      "3                        0            0                    0   \n",
      "4                        0            0                    0   \n",
      "...                    ...          ...                  ...   \n",
      "1109                     0            0                    0   \n",
      "1110                     0            0                    0   \n",
      "1111                     0            0                    0   \n",
      "1112                     0            0                    0   \n",
      "1113                     0            0                    0   \n",
      "\n",
      "      booting restarted  booting unit  fail 48v  fail booting  ...   \n",
      "0                     0             0         0             0  ...  \\\n",
      "1                     0             0         0             0  ...   \n",
      "2                     0             0         0             0  ...   \n",
      "3                     0             0         0             0  ...   \n",
      "4                     0             0         0             0  ...   \n",
      "...                 ...           ...       ...           ...  ...   \n",
      "1109                  0             0         0             0  ...   \n",
      "1110                  0             0         0             0  ...   \n",
      "1111                  0             0         0             0  ...   \n",
      "1112                  0             0         0             0  ...   \n",
      "1113                  0             0         0             0  ...   \n",
      "\n",
      "      remove lsp  remove portshutdown  remove trk  remove unit  restarted   \n",
      "0              0                    0           0            0          0  \\\n",
      "1              0                    0           0            0          0   \n",
      "2              0                    0           0            0          0   \n",
      "3              0                    0           0            0          0   \n",
      "4              0                    0           0            0          0   \n",
      "...          ...                  ...         ...          ...        ...   \n",
      "1109           0                    0           0            0          0   \n",
      "1110           0                    0           0            0          0   \n",
      "1111           0                    0           0            0          0   \n",
      "1112           0                    0           0            0          0   \n",
      "1113           0                    0           0            0          0   \n",
      "\n",
      "      restarted booting  rmt_fail  traffic opt  traffic psu  unit ipc  \n",
      "0                     0         0            0            0         0  \n",
      "1                     0         0            0            0         0  \n",
      "2                     0         0            0            0         0  \n",
      "3                     0         0            0            0         0  \n",
      "4                     0         0            0            0         0  \n",
      "...                 ...       ...          ...          ...       ...  \n",
      "1109                  0         0            0            0         0  \n",
      "1110                  0         0            0            0         0  \n",
      "1111                  0         0            0            0         0  \n",
      "1112                  0         0            0            0         0  \n",
      "1113                  0         0            0            0         0  \n",
      "\n",
      "[1114 rows x 60 columns]\n"
     ]
    }
   ],
   "source": [
    "from sklearn.feature_extraction.text import CountVectorizer\n",
    "import pandas as pd\n",
    "\n",
    "x_alarmmsg_original = x_train_df['alarmmsg_original'].tolist()\n",
    "\n",
    "def make_count_vector_df(x_alarmmsg_original):\n",
    "    CV_model = CountVectorizer(\n",
    "        ngram_range=(1,2), \n",
    "        min_df = 1,\n",
    "        max_df = 2,\n",
    "        binary = False\n",
    "    )\n",
    "    cv_result = CV_model.fit_transform(x_alarmmsg_original)\n",
    "    print(\"CV_model.vocabulary_: {}\".format(CV_model.vocabulary_))\n",
    "    return pd.DataFrame(cv_result.toarray(),\n",
    "             columns = [it[0] for it in sorted(CV_model.vocabulary_.items(), key=lambda x: x[1])])\n",
    "print(make_count_vector_df(x_alarmmsg_original))"
   ]
  },
  {
   "cell_type": "code",
   "execution_count": 45,
   "metadata": {},
   "outputs": [
    {
     "name": "stdout",
     "output_type": "stream",
     "text": [
      "         am       dog\n",
      "0  0.707107  0.707107\n"
     ]
    }
   ],
   "source": [
    "from sklearn.feature_extraction.text import TfidfVectorizer\n",
    "def make_tfidf_df(x_alarmmsg_original):\n",
    "    TFIDFmodel = TfidfVectorizer(\n",
    "        ngram_range=(1,1), # 앞 뒤 window를 고려하여 확장된 형태로 제시해줌. phrase를 뽑아낼 수 있는 강점이 있기는 할듯. \n",
    "        min_df = 1, # document freqeuency 가 1 이상은 되는 키워드만으로 vocabulary를 구성\n",
    "        max_df = 10,# document frequency가 10 이하인 키워드만으로 vocabulary를 구성 \n",
    "        binary = False # binary이면 있다 없다 구조로 변경됨\n",
    "    )\n",
    "    TFIDFmodel.fit(x_alarmmsg_original)\n",
    "    #print(TFIDFmodel.vocabulary_)\n",
    "    return pd.DataFrame(TFIDFmodel.transform(x_alarmmsg_original).toarray(),\n",
    "             columns = [it[0] for it in sorted(TFIDFmodel.vocabulary_.items(), key=lambda x: x[1])])\n",
    "x_alarmmsg_original = [\"I am a dog\"]\n",
    "print( make_tfidf_df(x_alarmmsg_original) )"
   ]
  },
  {
   "cell_type": "code",
   "execution_count": 1,
   "metadata": {},
   "outputs": [
    {
     "name": "stdout",
     "output_type": "stream",
     "text": [
      "2.0.1+cu118\n"
     ]
    }
   ],
   "source": [
    "import torch\n",
    "print(torch.__version__)"
   ]
  },
  {
   "cell_type": "code",
   "execution_count": 8,
   "metadata": {},
   "outputs": [
    {
     "name": "stdout",
     "output_type": "stream",
     "text": [
      "True\n"
     ]
    }
   ],
   "source": [
    "print(torch.cuda.is_available())"
   ]
  },
  {
   "cell_type": "code",
   "execution_count": 6,
   "metadata": {},
   "outputs": [
    {
     "name": "stdout",
     "output_type": "stream",
     "text": [
      "Cupy Version:  12.2.0\n"
     ]
    },
    {
     "data": {
      "text/plain": [
       "<CUDA Device 0>"
      ]
     },
     "execution_count": 6,
     "metadata": {},
     "output_type": "execute_result"
    }
   ],
   "source": [
    "import cupy as cp\n",
    "import numpy as np\n",
    "\n",
    "print(\"Cupy Version: \", cp.__version__)\n",
    "cp.cuda.Device(0).use()"
   ]
  },
  {
   "cell_type": "code",
   "execution_count": null,
   "metadata": {},
   "outputs": [],
   "source": [
    "from gensim.models.word2vec import Word2Vec\n",
    "import matplotlib.pyplot as plt\n",
    "\n",
    "f, axes = plt.subplots(2, 2, sharex=False, sharey=False)\n",
    "f.set_size_inches((16, 6)) \n",
    "for i in range(0, 2):\n",
    "    for j in range(0, 2):\n",
    "        sample_n = [1, 1000, 2000, 6000][i*2+j]\n",
    "        x_alarmmsg_original = x_alarmmsg_original*sample_n\n",
    "        sent_split_lst = map(lambda s: list(s.lower().split(\" \")), x_alarmmsg_original)\n",
    "\n",
    "        model = Word2Vec(list(sent_split_lst), vector_size=2, window = 3, min_count=1)\n",
    "        model.init_sims(replace=True)\n",
    "\n",
    "        for x, y, t in ((model.wv.get_vector(w)[0], model.wv.get_vector(w)[0], w) for w in model.wv.index_to_key):\n",
    "            axes[i][j].scatter(x, y, cmap=plt.cm.rainbow)\n",
    "            axes[i][j].text(x+0.01, y, t, fontsize=12)\n",
    "            axes[i][j].set_title(\"sample size = {}\".format(sample_n))\n",
    "f.tight_layout()\n",
    "plt.savefig('./word_embedding_subplot_20180515.svg')\n",
    "plt.show()"
   ]
  },
  {
   "cell_type": "code",
   "execution_count": 4,
   "metadata": {},
   "outputs": [
    {
     "name": "stdout",
     "output_type": "stream",
     "text": [
      "Check: ticketno 순서와 샘플 수가 일치합니다.\n",
      "Done : Q2_submitResult.csv 파일로 저장되었습니다.\n"
     ]
    }
   ],
   "source": [
    "# 3. 결과 제출\n",
    "# 본 코드는 제출되는 파일의 형태에 대한 가이드로, 반드시 아래 구조를 따를 필요 없이 자유롭게 코드를 작성해도 무방합니다.\n",
    "# 제출 포맷에 대해선 data/Q2_label_sample.csv를 참조하세요.\n",
    "#\n",
    "# 분야 2의 경우, 전표(ticket) 하나에 하나의 근원장애(root_cause_type)을 매칭해야 합니다.\n",
    "#   주의: 경보(alarm) 개수와 전표(ticket) 개수는 다르며, 예측할 대상은 전표입니다.\n",
    "#   주의: ticketno 컬럼 기준으로 오름차순 정렬이 필요합니다.\n",
    "# 분야 2의 제출 파일은 2개 컬럼 [ticketno, root_cause_type]을 가져야 합니다.\n",
    "\n",
    "def submitResult(pred):\n",
    "    try:\n",
    "        label = pd.read_csv('Q2_label_sample.csv')\n",
    "        # ticketno 순서와 개수가 일치하는지 확인\n",
    "        if (label['ticketno'] == pred['ticketno']).all():\n",
    "            print(\"Check: ticketno 순서와 샘플 수가 일치합니다.\")\n",
    "        else:\n",
    "            print(\"Warning: 테스트 세트와 모델 예측의 ticketno가 일치하지 않습니다.\")\n",
    "            return\n",
    "\n",
    "        pred.to_csv('Q2_submitResult.csv', index=False)\n",
    "        print(\"Done : Q2_submitResult.csv 파일로 저장되었습니다.\")\n",
    "    except Exception as e:\n",
    "        # 예외가 발생한 경우 오류 메시지 출력\n",
    "        print(\"Error:\", e)\n",
    "\n",
    "submitResult(y_pred)"
   ]
  },
  {
   "cell_type": "code",
   "execution_count": 5,
   "metadata": {},
   "outputs": [],
   "source": [
    "# GPU reset\n",
    "\n",
    "from numba import cuda\n",
    "\n",
    "device = cuda.get_current_device(); device.reset()"
   ]
  }
 ],
 "metadata": {
  "kernelspec": {
   "display_name": "Python 3",
   "language": "python",
   "name": "python3"
  },
  "language_info": {
   "codemirror_mode": {
    "name": "ipython",
    "version": 3
   },
   "file_extension": ".py",
   "mimetype": "text/x-python",
   "name": "python",
   "nbconvert_exporter": "python",
   "pygments_lexer": "ipython3",
   "version": "3.10.11"
  },
  "orig_nbformat": 4
 },
 "nbformat": 4,
 "nbformat_minor": 2
}
