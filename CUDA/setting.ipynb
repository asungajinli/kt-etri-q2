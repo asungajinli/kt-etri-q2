{
 "cells": [
  {
   "cell_type": "markdown",
   "metadata": {},
   "source": [
    "CPU 버전 pytorch를 설치했다면, 기존 버전을 제거하자. &darr;\n",
    "```\n",
    "pip uninstall torch torchvision\n",
    "```\n",
    "이후 GPU 버전 pytorch 설치. 위 url에서 torch버전과 그에 맞는 [cuda 버전을 확인](https://pytorch.org/get-started/locally/)하자.\n",
    "\n",
    "<font color=\"#F78181\">torch</font> == 2.0.1<br><font color=\"#58FAAC\">cuda</font> 11.7 or 11.8 &darr;\n",
    "```\n",
    "pip3 install torch torchvision torchaudio --index-url https://download.pytorch.org/whl/cu118\n",
    "```"
   ]
  },
  {
   "cell_type": "code",
   "execution_count": 1,
   "metadata": {},
   "outputs": [
    {
     "name": "stdout",
     "output_type": "stream",
     "text": [
      "2.0.1+cu118\n",
      "True\n"
     ]
    }
   ],
   "source": [
    "import torch\n",
    "\n",
    "print(torch.__version__)\n",
    "print(torch.cuda.is_available())"
   ]
  },
  {
   "cell_type": "code",
   "execution_count": 3,
   "metadata": {},
   "outputs": [
    {
     "name": "stdout",
     "output_type": "stream",
     "text": [
      "-----Torch 버전 및 GPU 사용 가능 여부-----\n",
      "Torch Version :  2.0.1+cu118\n",
      "CUDA 사용 가능 여부 :  True\n",
      "GPU 이름 :  NVIDIA GeForce RTX 3070\n",
      "GPU 개수 :  1\n",
      "GPU 현재 사용 중인 곳 :  0\n",
      "GPU 현재 사용 중인 곳 이름 :  NVIDIA GeForce RTX 3070\n",
      "\n",
      "-----GPU 메모리 할당 상태-----\n",
      "GPU 총 메모리 :  8191.5 MB\n",
      "할당된 GPU 메모리 :  0.0 MB\n",
      "캐시된 GPU 메모리 :  0.0 MB\n"
     ]
    }
   ],
   "source": [
    "import torch\n",
    "\n",
    "print('-----Torch 버전 및 GPU 사용 가능 여부-----')\n",
    "print('Torch Version : ', torch.__version__)\n",
    "print('CUDA 사용 가능 여부 : ', torch.cuda.is_available())\n",
    "print('GPU 이름 : ', torch.cuda.get_device_name(0))\n",
    "print('GPU 개수 : ', torch.cuda.device_count())\n",
    "print('GPU 현재 사용 중인 곳 : ', torch.cuda.current_device())\n",
    "print('GPU 현재 사용 중인 곳 이름 : ', torch.cuda.get_device_name(torch.cuda.current_device()))\n",
    "print('\\n-----GPU 메모리 할당 상태-----')\n",
    "print(\"GPU 총 메모리 : \", round(torch.cuda.get_device_properties(0).total_memory / 1024**2, 1), 'MB')\n",
    "print(\"할당된 GPU 메모리 : \", round(torch.cuda.memory_allocated() / 1024**2, 1), 'MB')\n",
    "print(\"캐시된 GPU 메모리 : \", round(torch.cuda.memory_cached() / 1024**2, 1), 'MB')"
   ]
  },
  {
   "cell_type": "markdown",
   "metadata": {},
   "source": [
    "CUDA 메모리 초기화\n",
    "```\n",
    "pip install numba\n",
    "```"
   ]
  },
  {
   "cell_type": "code",
   "execution_count": 3,
   "metadata": {},
   "outputs": [],
   "source": [
    "from numba import cuda\n",
    "\n",
    "device = cuda.get_current_device(); device.reset()"
   ]
  },
  {
   "cell_type": "markdown",
   "metadata": {},
   "source": [
    "이후 초기화 완료 &darr;\n",
    "\n",
    "<img src=\"./image.png\" style=\"width:500px;\">"
   ]
  }
 ],
 "metadata": {
  "kernelspec": {
   "display_name": "Python 3",
   "language": "python",
   "name": "python3"
  },
  "language_info": {
   "codemirror_mode": {
    "name": "ipython",
    "version": 3
   },
   "file_extension": ".py",
   "mimetype": "text/x-python",
   "name": "python",
   "nbconvert_exporter": "python",
   "pygments_lexer": "ipython3",
   "version": "3.10.11"
  },
  "orig_nbformat": 4
 },
 "nbformat": 4,
 "nbformat_minor": 2
}
